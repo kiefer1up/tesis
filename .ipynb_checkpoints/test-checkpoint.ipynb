{
 "cells": [
  {
   "cell_type": "code",
   "execution_count": 83,
   "id": "ad1bd304-0aa3-4977-aa5c-12862d5a2650",
   "metadata": {},
   "outputs": [],
   "source": [
    "import lib.database as db\n",
    "import pandas as pd\n",
    "import numpy as np\n",
    "import matplotlib.pyplot as plt\n",
    "from matplotlib.patches import Patch\n",
    "from matplotlib.ticker import PercentFormatter"
   ]
  },
  {
   "cell_type": "code",
   "execution_count": 85,
   "id": "642bfe0f-0005-4c2b-a8f0-d667385ba376",
   "metadata": {},
   "outputs": [],
   "source": [
    "db.dolar()"
   ]
  },
  {
   "cell_type": "code",
   "execution_count": null,
   "id": "65fddc5e-2549-4b0a-a603-eb366291a7ad",
   "metadata": {},
   "outputs": [],
   "source": []
  }
 ],
 "metadata": {
  "kernelspec": {
   "display_name": "Python 3 (ipykernel)",
   "language": "python",
   "name": "python3"
  },
  "language_info": {
   "codemirror_mode": {
    "name": "ipython",
    "version": 3
   },
   "file_extension": ".py",
   "mimetype": "text/x-python",
   "name": "python",
   "nbconvert_exporter": "python",
   "pygments_lexer": "ipython3",
   "version": "3.9.2"
  }
 },
 "nbformat": 4,
 "nbformat_minor": 5
}
